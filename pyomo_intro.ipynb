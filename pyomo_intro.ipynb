{
 "cells": [
  {
   "cell_type": "markdown",
   "id": "374604b8",
   "metadata": {},
   "source": [
    "# Introduction into Pyomo"
   ]
  },
  {
   "cell_type": "markdown",
   "id": "b4238ac7",
   "metadata": {},
   "source": [
    "The following implementations are based on the book [Optimization Modeling in Python](https://link.springer.com/book/10.1007/978-3-030-68928-5)"
   ]
  },
  {
   "cell_type": "markdown",
   "id": "a3c734b2",
   "metadata": {},
   "source": [
    "$$min ~ { x_{1} + 2 x_{2}}$$ \n",
    "$$s.t. ~ 3x_{1} + x_{2} \\geq 1 $$ \n",
    "$$\\hspace{2em} 2x_{1} + 5x{2} \\geq 2 $$\n",
    "$$\\hspace{1em} x_{1},x_{2} \\geq 0 $$"
   ]
  },
  {
   "cell_type": "code",
   "execution_count": 1,
   "id": "d9e6ba75",
   "metadata": {},
   "outputs": [],
   "source": [
    "import pyomo.environ as pyo"
   ]
  },
  {
   "cell_type": "code",
   "execution_count": 4,
   "id": "40a52d88",
   "metadata": {},
   "outputs": [],
   "source": [
    "model = pyo.ConcreteModel()\n",
    "model.x_1 = pyo.Var(within = pyo.NonNegativeReals)\n",
    "model.x_2 = pyo.Var(within = pyo.NonNegativeReals)\n",
    "model.obj = pyo.Objective(expr = model.x_1 + 2 * model.x_2)\n",
    "model.con1 = pyo.Constraint(expr = 3 * model.x_1 + 4 * model.x_2 >= 1)\n",
    "model.con2 = pyo.Constraint(expr = 2 * model.x_1 + 5 * model.x_2 >= 2)"
   ]
  }
 ],
 "metadata": {
  "kernelspec": {
   "display_name": "Python 3 (ipykernel)",
   "language": "python",
   "name": "python3"
  },
  "language_info": {
   "codemirror_mode": {
    "name": "ipython",
    "version": 3
   },
   "file_extension": ".py",
   "mimetype": "text/x-python",
   "name": "python",
   "nbconvert_exporter": "python",
   "pygments_lexer": "ipython3",
   "version": "3.9.2"
  }
 },
 "nbformat": 4,
 "nbformat_minor": 5
}
